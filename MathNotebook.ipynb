{
  "nbformat": 4,
  "nbformat_minor": 5,
  "metadata": {
    "environment": {
      "name": "common-cu110.m81",
      "type": "gcloud",
      "uri": "gcr.io/deeplearning-platform-release/base-cu110:m81"
    },
    "kernelspec": {
      "display_name": "Python 3",
      "language": "python",
      "name": "python3"
    },
    "language_info": {
      "codemirror_mode": {
        "name": "ipython",
        "version": 3
      },
      "file_extension": ".py",
      "mimetype": "text/x-python",
      "name": "python",
      "nbconvert_exporter": "python",
      "pygments_lexer": "ipython3",
      "version": "3.7.10"
    },
    "colab": {
      "name": "MathNotebook.ipynb",
      "provenance": [],
      "collapsed_sections": [
        "8GToElo0PIYa",
        "rbJGiDHKX18-",
        "qQ-5hFtkMPfq",
        "oM1FVtVsz5m1",
        "fiACbuNoy8nO"
      ]
    }
  },
  "cells": [
    {
      "cell_type": "markdown",
      "metadata": {
        "id": "VQMdG-tJPnww"
      },
      "source": [
        "## Data Science at work is rather Engineer, not Scientist"
      ],
      "id": "VQMdG-tJPnww"
    },
    {
      "cell_type": "markdown",
      "metadata": {
        "id": "ObhAx1R6PFPn"
      },
      "source": [
        "## Calculus"
      ],
      "id": "ObhAx1R6PFPn"
    },
    {
      "cell_type": "markdown",
      "metadata": {
        "id": "8GToElo0PIYa"
      },
      "source": [
        "### Differential calculus\n",
        "The best constant approximation for the rate of change"
      ],
      "id": "8GToElo0PIYa"
    },
    {
      "cell_type": "markdown",
      "metadata": {
        "id": "VU-0p_0qA2Iq"
      },
      "source": [
        "![](https://upload.wikimedia.org/wikipedia/commons/3/37/Graph_of_sliding_derivative_line_no_text.gif)"
      ],
      "id": "VU-0p_0qA2Iq"
    },
    {
      "cell_type": "markdown",
      "metadata": {
        "id": "vNVJu3yVBbcX"
      },
      "source": [
        "\n",
        "\n",
        "<div>\n",
        "<img src=\"https://ds055uzetaobb.cloudfront.net/image_optimizer/f1aad8cb82a3d4acf67f2fc6523d8fe10677b478.gif\" width=\"400\"/>\n",
        "</div>"
      ],
      "id": "vNVJu3yVBbcX"
    },
    {
      "cell_type": "markdown",
      "metadata": {
        "id": "CE9AdP77DWfQ"
      },
      "source": [
        "\n",
        "<div>\n",
        "<img src=\"https://mathinsight.org/media/image/image/partial_derivative_as_slope.png\" width=\"400\"/>\n",
        "</div>"
      ],
      "id": "CE9AdP77DWfQ"
    },
    {
      "cell_type": "markdown",
      "metadata": {
        "id": "8gQiKrxNN6-h"
      },
      "source": [
        "$L = lim_{h→0}\\frac{f(a+h) - f(a)}{h}$\n",
        "\n",
        "- Power rules \\\n",
        "$\\frac{d}{dx}x^a=ax^{a-1}$ \n",
        "\n",
        "- Exponential and logarthm \\\n",
        "$\\frac{d}{dx}e^x=e^x$ \\\n",
        "$\\frac{d}{dx}a^x=a^xln(a)$\n",
        "\n",
        "- Sum rule \\\n",
        "$(af+ \\beta g)` = af` + \\beta g`$\n",
        "\n",
        "- Product rule \\\n",
        "$(fg)` = f`g +fg`$\n",
        "\n",
        "- Quotient rule \\\n",
        "$(\\frac{f}{g})` = \\frac{f`g-fg`}{g^2}$"
      ],
      "id": "8gQiKrxNN6-h"
    },
    {
      "cell_type": "markdown",
      "metadata": {
        "id": "rbJGiDHKX18-"
      },
      "source": [
        "### Integral Calculus\n",
        "\n",
        " an integral assigns numbers to functions in a way that describes displacement, area, volume, and other concepts that arise by combining infinitesimal data"
      ],
      "id": "rbJGiDHKX18-"
    },
    {
      "cell_type": "markdown",
      "metadata": {
        "id": "0YGhngpaEG4T"
      },
      "source": [
        "<div>\n",
        "<img src=\"https://upload.wikimedia.org/wikipedia/commons/5/54/Integral_riemann_animada.gif\" width=\"400\"/>\n",
        "</div>"
      ],
      "id": "0YGhngpaEG4T"
    },
    {
      "cell_type": "markdown",
      "metadata": {
        "id": "pfr-x5ZtXPQ1"
      },
      "source": [
        "<div>\n",
        "<img src=\"https://upload.wikimedia.org/wikipedia/commons/thumb/0/0a/Riemann_Integration_and_Darboux_Upper_Sums.gif/600px-Riemann_Integration_and_Darboux_Upper_Sums.gif\" width=\"400\"/>\n",
        "</div>\n"
      ],
      "id": "pfr-x5ZtXPQ1"
    },
    {
      "cell_type": "markdown",
      "metadata": {
        "id": "iVjmxis5YPC1"
      },
      "source": [
        "${\\displaystyle L({\\boldsymbol {\\theta }};\\mathbf {X} )=p(\\mathbf {X} \\mid {\\boldsymbol {\\theta }})=\\int p(\\mathbf {X} ,\\mathbf {Z} \\mid {\\boldsymbol {\\theta }})\\,d\\mathbf {Z} =\\int p(\\mathbf {Z} \\mid \\mathbf {X} ,{\\boldsymbol {\\theta }})p(\\mathbf {X} \\mid {\\boldsymbol {\\theta }})\\,d\\mathbf {Z} }$ \\\\\n",
        "${\\displaystyle Q({\\boldsymbol {\\theta }}\\mid {\\boldsymbol {\\theta }}^{(t)})=\\operatorname {E} _{\\mathbf {Z} \\mid \\mathbf {X} ,{\\boldsymbol {\\theta }}^{(t)}}\\left[\\log L({\\boldsymbol {\\theta }};\\mathbf {X} ,\\mathbf {Z} )\\right]\\,}$"
      ],
      "id": "iVjmxis5YPC1"
    },
    {
      "cell_type": "markdown",
      "metadata": {
        "id": "eT1RRLR5KDCI"
      },
      "source": [
        "<div>\n",
        "<img src=\"https://upload.wikimedia.org/wikipedia/commons/6/69/EM_Clustering_of_Old_Faithful_data.gif\" width=\"400\"/>\n",
        "</div>"
      ],
      "id": "eT1RRLR5KDCI"
    },
    {
      "cell_type": "markdown",
      "metadata": {
        "id": "qQ-5hFtkMPfq"
      },
      "source": [
        "## Gradient Descent Algorithm"
      ],
      "id": "qQ-5hFtkMPfq"
    },
    {
      "cell_type": "markdown",
      "metadata": {
        "tags": [],
        "id": "3dcd7767-08bb-411d-910a-db179ec4fe25"
      },
      "source": [
        "![](https://miro.medium.com/max/1400/1*Qfdsh_bJRIJ-Sla4TulrWA.jpeg)"
      ],
      "id": "3dcd7767-08bb-411d-910a-db179ec4fe25"
    },
    {
      "cell_type": "markdown",
      "metadata": {
        "jupyter": {
          "outputs_hidden": true
        },
        "tags": [],
        "id": "e1c628ea-dd77-4137-baf1-4a0956b10c17"
      },
      "source": [
        "![](https://hackernoon.com/hn-images/0*D7zG46WrdKx54pbU.gif)"
      ],
      "id": "e1c628ea-dd77-4137-baf1-4a0956b10c17"
    },
    {
      "cell_type": "markdown",
      "metadata": {
        "id": "s-i9ZEo-LnBQ"
      },
      "source": [
        "\n",
        "Gradient Descent minimize the loss between objective and cost function by taking partial derivatives with respect to each parameter(w, b in this example)\n",
        "\n",
        "・Gradient \\\n",
        "$\\nabla L = (\\frac{\\partial L}{\\partial w} \\frac{\\partial L}{\\partial b})$\n",
        "\n",
        "・Partial Derivatives \\\n",
        "$\\frac{\\partial}{\\partial w}((y-(wx^2+b)) = -2x^2(-b-wx^2+y)$ \\\n",
        "$\\frac{\\partial}{\\partial b}((y-(wx^2+b)) = -2(-b-wx^2+y)$\n",
        "\n",
        "・Update parameters \\\n",
        "$w ← w - \\eta \\frac{\\partial f}{\\partial w} $ \\\n",
        "$b ← b - \\eta \\frac{\\partial f}{\\partial b} $"
      ],
      "id": "s-i9ZEo-LnBQ"
    },
    {
      "cell_type": "markdown",
      "metadata": {
        "id": "oM1FVtVsz5m1"
      },
      "source": [
        "## Linear Algebra"
      ],
      "id": "oM1FVtVsz5m1"
    },
    {
      "cell_type": "markdown",
      "metadata": {
        "id": "9n3U5_Lq0iol"
      },
      "source": [
        "![](https://thumbs.gfycat.com/CooperativeQuerulousFirefly.webp)"
      ],
      "id": "9n3U5_Lq0iol"
    },
    {
      "cell_type": "markdown",
      "metadata": {
        "id": "Gl-knsi90y18"
      },
      "source": [
        "![](https://thumbs.gfycat.com/VeneratedSpitefulFrilledlizard.webp)"
      ],
      "id": "Gl-knsi90y18"
    },
    {
      "cell_type": "markdown",
      "metadata": {
        "id": "4DKifPdooPRS"
      },
      "source": [
        "\n",
        "![](https://storage.ning.com/topology/rest/1.0/file/get/2808330901?profile=)"
      ],
      "id": "4DKifPdooPRS"
    },
    {
      "cell_type": "markdown",
      "metadata": {
        "id": "28f72668-8377-4a64-b399-f383c19f49a3"
      },
      "source": [
        "# *Data Science and STEM Salaries*"
      ],
      "id": "28f72668-8377-4a64-b399-f383c19f49a3"
    },
    {
      "cell_type": "markdown",
      "metadata": {
        "id": "344285b7-adae-437e-93d7-19fa577e486a"
      },
      "source": [
        "<div>\n",
        "<img src=\"https://www.espinews.com.ng/wp-content/uploads/2021/05/Tech-company-logo.jpg\" width=\"800\"/>\n",
        "</div>"
      ],
      "id": "344285b7-adae-437e-93d7-19fa577e486a"
    },
    {
      "cell_type": "code",
      "metadata": {
        "id": "nHUN9Q0VDt-_",
        "colab": {
          "base_uri": "https://localhost:8080/"
        },
        "outputId": "36abed8d-a2c3-46e7-ffa1-e69f8449dc18"
      },
      "source": [
        "# Download Google Colaboratory\n",
        "from google.colab import drive\n",
        "drive.mount('/content/drive')"
      ],
      "id": "nHUN9Q0VDt-_",
      "execution_count": null,
      "outputs": [
        {
          "output_type": "stream",
          "name": "stdout",
          "text": [
            "Mounted at /content/drive\n"
          ]
        }
      ]
    },
    {
      "cell_type": "code",
      "metadata": {
        "id": "83f90bb7-ebe1-4a81-b0fb-64b31d4c0054"
      },
      "source": [
        "# Import Python Packages\n",
        "\n",
        "import numpy as np                        # Matrix calculation\n",
        "import pandas as pd                       # Data Processing\n",
        "import matplotlib.pyplot as plt           # Data Visualization"
      ],
      "id": "83f90bb7-ebe1-4a81-b0fb-64b31d4c0054",
      "execution_count": null,
      "outputs": []
    },
    {
      "cell_type": "code",
      "metadata": {
        "id": "942a6aaa-69aa-4363-b0c7-4369ba78337d"
      },
      "source": [
        "df=pd.read_csv(\"/content/drive/MyDrive/LeWagon/Levels_Fyi_Salary_Data.csv\")     # Import CSV dataset\n",
        "df=df.dropna()"
      ],
      "id": "942a6aaa-69aa-4363-b0c7-4369ba78337d",
      "execution_count": null,
      "outputs": []
    },
    {
      "cell_type": "code",
      "metadata": {
        "id": "bd4920f5-cf41-4dfa-8e9f-80296dd4d573"
      },
      "source": [
        "#df.groupby(\"company\").mean()[[\"basesalary\", \"bonus\"]].sort_values(ascending=False, by=\"basesalary\")[:20].plot.barh(figsize=(20, 20), stacked=True).invert_yaxis()"
      ],
      "id": "bd4920f5-cf41-4dfa-8e9f-80296dd4d573",
      "execution_count": null,
      "outputs": []
    },
    {
      "cell_type": "code",
      "metadata": {
        "id": "cb063b6e-8ff1-4a73-b93b-c0c5a371cc3f"
      },
      "source": [
        "y, X = df.pop(\"basesalary\"), \\\n",
        "       df[[\"totalyearlycompensation\",\"yearsofexperience\", \"yearsatcompany\", \"stockgrantvalue\",  \"bonus\", \"cityid\", \"dmaid\"]]"
      ],
      "id": "cb063b6e-8ff1-4a73-b93b-c0c5a371cc3f",
      "execution_count": null,
      "outputs": []
    },
    {
      "cell_type": "code",
      "metadata": {
        "id": "GCfZGuzzx8oz"
      },
      "source": [
        "################## NO NEED TO REMEMBER #################################\n",
        "import random\n",
        "\n",
        "# Cost function\n",
        "def NeuralNetwork(w,x,b):\n",
        "    return w*(x**2) + b\n",
        "\n",
        "w = random.random()\n",
        "b = random.random()\n",
        "lr = 0.00001 # Hyperparameter\n",
        "\n",
        "x = 8\n",
        "y = 2\n",
        "\n",
        "def update_params():\n",
        "    global w, b\n",
        "    y_pred = NeuralNetwork(w,x,b)\n",
        "    print(y_pred)\n",
        "    derivative_wrt_w = -2*x**2*(y - y_pred) # partial derivative\n",
        "    derivative_wrt_b = -2*(y - y_pred) # partial derivative\n",
        "    w = w - lr*derivative_wrt_w # Update w\n",
        "    b = b - lr*derivative_wrt_b # Update b\n",
        "\n",
        "for i in range(100):\n",
        "    update_params()\n",
        "\n",
        "epsilon = 0.0000000000000001 # Threshold \n",
        "y_hat = NeuralNetwork(w,x,b) # prediction of y\n",
        "(y - y_hat) < epsilon # Check if the prediction is correct\n",
        "##########################################################################"
      ],
      "id": "GCfZGuzzx8oz",
      "execution_count": null,
      "outputs": []
    },
    {
      "cell_type": "markdown",
      "metadata": {
        "id": "w3iSIIePy1Ln"
      },
      "source": [
        "<div>\n",
        "<img src=\"https://dezyre.gumlet.net/images/blog/PyTorch+vs+TensorFlow+2021-A+Head-to-Head+Comparison/PyTorch+vs+TensorFlow+2019.png?w=376&dpr=2.6\" width=\"800\"/>\n",
        "</div>\n"
      ],
      "id": "w3iSIIePy1Ln"
    },
    {
      "cell_type": "code",
      "metadata": {
        "id": "mK-aAfPUjtdx"
      },
      "source": [
        "################## NO NEED TO REMEMBER #################################\n",
        "import torch\n",
        "\n",
        "#Data generation (2D points)\n",
        "w_source = torch.empty(7, 21521).uniform_(0, 1)\n",
        "b_source  = torch.empty(21521).uniform_(0,1)\n",
        "\n",
        "X_torch=torch.tensor(X.values.astype(np.float32))\n",
        "y_torch= torch.tensor(y.values.astype(np.float32))\n",
        "\n",
        "mean = X_torch.mean()\n",
        "std = X_torch.std()\n",
        "\n",
        "X_torch = (X_torch - mean)/std\n",
        "y_torch = (y_torch - mean)/std\n",
        "\n",
        "w_t_init = torch.empty(7, 21521).uniform_(-1, 1) \n",
        "b_t_init = torch.empty(21521).uniform_(-1, 1)\n",
        "\n",
        "\n",
        "# our model forward pass\n",
        "def forward_t(x):\n",
        "    return x.mm(w_t)+b_t\n",
        "\n",
        "# Loss function\n",
        "def loss_t(x, y):\n",
        "    y_pred = forward_t(x)\n",
        "    return (y_pred - y).pow(2).sum()\n",
        "\n",
        "# compute gradient\n",
        "def gradient_t(x, y):  # d_loss/d_w, d_loss/d_b\n",
        "    return 2*torch.mm(torch.t(x),x.mm(w_t)+b_t - y), \\\n",
        "           2 * (x.mm(w_t)+b_t - y).sum()             #with respect to b\n",
        "\n",
        "\n",
        "learning_rate = 1e-4\n",
        "\n",
        "w_t = w_t_init.clone()\n",
        "b_t = b_t_init.clone()\n",
        "\n",
        "loss=[]\n",
        "for epoch in range(10):\n",
        "    l = loss_t(X_torch,y_torch)\n",
        "    loss.append(l.numpy().item())\n",
        "    grad_w, grad_b = gradient_t(X_torch, y_torch)\n",
        "    w_t = w_t-learning_rate*grad_w\n",
        "    b_t = b_t-learning_rate*grad_b\n",
        "    print(\"progress:\", \"epoch:\", epoch, \"loss\",l)\n",
        "##########################################################################"
      ],
      "id": "mK-aAfPUjtdx",
      "execution_count": null,
      "outputs": []
    },
    {
      "cell_type": "code",
      "metadata": {
        "id": "Z_Wc_jpMnftD",
        "colab": {
          "base_uri": "https://localhost:8080/"
        },
        "outputId": "060bcf39-48eb-4291-a895-2acb1fbd12a5"
      },
      "source": [
        "\n",
        "########################## ALL YOU NEED ###################################\n",
        "import tensorflow as tf\n",
        "from tensorflow import keras\n",
        "from tensorflow.keras import layers\n",
        "\n",
        "model = tf.keras.Sequential([\n",
        "  layers.Normalization(axis=-1),\n",
        "  layers.Dense(units=1)])\n",
        "\n",
        "model.compile(\n",
        "    optimizer=tf.optimizers.Adam(learning_rate=0.01),\n",
        "    loss='mean_absolute_error')\n",
        "history = model.fit(X, y, epochs=20)\n",
        "##########################################################################"
      ],
      "id": "Z_Wc_jpMnftD",
      "execution_count": null,
      "outputs": [
        {
          "output_type": "stream",
          "name": "stdout",
          "text": [
            "Epoch 1/20\n",
            "673/673 [==============================] - 3s 3ms/step - loss: 9818.8779\n",
            "Epoch 2/20\n",
            "673/673 [==============================] - 2s 3ms/step - loss: 6469.1260\n",
            "Epoch 3/20\n",
            "673/673 [==============================] - 2s 3ms/step - loss: 6255.8062\n",
            "Epoch 4/20\n",
            "673/673 [==============================] - 2s 3ms/step - loss: 4963.5493\n",
            "Epoch 5/20\n",
            "673/673 [==============================] - 2s 3ms/step - loss: 4389.4653\n",
            "Epoch 6/20\n",
            "673/673 [==============================] - 2s 3ms/step - loss: 4584.5981\n",
            "Epoch 7/20\n",
            "673/673 [==============================] - 2s 3ms/step - loss: 3841.5940\n",
            "Epoch 8/20\n",
            "673/673 [==============================] - 2s 3ms/step - loss: 3224.7246\n",
            "Epoch 9/20\n",
            "673/673 [==============================] - 2s 3ms/step - loss: 3493.3220\n",
            "Epoch 10/20\n",
            "673/673 [==============================] - 2s 3ms/step - loss: 3508.3088\n",
            "Epoch 11/20\n",
            "673/673 [==============================] - 2s 3ms/step - loss: 2980.5491\n",
            "Epoch 12/20\n",
            "673/673 [==============================] - 2s 3ms/step - loss: 3458.4875\n",
            "Epoch 13/20\n",
            "673/673 [==============================] - 2s 3ms/step - loss: 2970.3508\n",
            "Epoch 14/20\n",
            "673/673 [==============================] - 2s 3ms/step - loss: 3529.2925\n",
            "Epoch 15/20\n",
            "673/673 [==============================] - 2s 3ms/step - loss: 3315.9329\n",
            "Epoch 16/20\n",
            "673/673 [==============================] - 2s 3ms/step - loss: 3135.1350\n",
            "Epoch 17/20\n",
            "673/673 [==============================] - 2s 3ms/step - loss: 2856.0791\n",
            "Epoch 18/20\n",
            "673/673 [==============================] - 2s 3ms/step - loss: 2847.1633\n",
            "Epoch 19/20\n",
            "673/673 [==============================] - 2s 3ms/step - loss: 2946.8491\n",
            "Epoch 20/20\n",
            "673/673 [==============================] - 2s 3ms/step - loss: 2578.5388\n"
          ]
        }
      ]
    },
    {
      "cell_type": "code",
      "metadata": {
        "id": "o_gc0t1BoeGi",
        "colab": {
          "base_uri": "https://localhost:8080/",
          "height": 281
        },
        "outputId": "e299e35d-9d71-48b3-adee-9b9460b26858"
      },
      "source": [
        "import pandas as pd\n",
        "pd.Series(history.history[\"loss\"]).plot()"
      ],
      "id": "o_gc0t1BoeGi",
      "execution_count": null,
      "outputs": [
        {
          "output_type": "execute_result",
          "data": {
            "text/plain": [
              "<matplotlib.axes._subplots.AxesSubplot at 0x7f1e8b09eb50>"
            ]
          },
          "metadata": {},
          "execution_count": 173
        },
        {
          "output_type": "display_data",
          "data": {
            "image/png": "[encoded data removed]",
            "text/plain": [
              "<Figure size 432x288 with 1 Axes>"
            ]
          },
          "metadata": {
            "needs_background": "light"
          }
        }
      ]
    },
    {
      "cell_type": "markdown",
      "metadata": {
        "id": "0c64c535-c195-4e1d-b28d-e6d716ae4759"
      },
      "source": [
        "## Reference"
      ],
      "id": "0c64c535-c195-4e1d-b28d-e6d716ae4759"
    },
    {
      "cell_type": "markdown",
      "metadata": {
        "id": "6f617eae-1b50-4f17-9f6c-2e137bf089e0"
      },
      "source": [
        "- Kaggle: Data Science and STEM Salaries(https://www.kaggle.com/jackogozaly/data-science-and-stem-salaries)\n",
        "- Essential Math for Data Science(https://www.amazon.co.jp/-/en/Hadrien-Jean/dp/1098115562)\n",
        "- Python for Data Analysis: Data Wrangling with Pandas, NumPy, and IPython 2nd Edition(https://www.amazon.com/Python-Data-Analysis-Wrangling-IPython/dp/1491957662)\n",
        "- 3Blue1Brown The essence of calculus https://www.youtube.com/watch?v=WUvTyaaNkzM&t=280s"
      ],
      "id": "6f617eae-1b50-4f17-9f6c-2e137bf089e0"
    },
    {
      "cell_type": "markdown",
      "metadata": {
        "id": "fiACbuNoy8nO"
      },
      "source": [
        "## Appendix"
      ],
      "id": "fiACbuNoy8nO"
    },
    {
      "cell_type": "code",
      "metadata": {
        "tags": [],
        "id": "c6f361a3-5dce-4b51-ac07-0191d62b0052",
        "colab": {
          "base_uri": "https://localhost:8080/",
          "height": 191
        },
        "outputId": "f5e7d46c-31eb-473c-ff6d-74092c7cb644"
      },
      "source": [
        "import random\n",
        "random_index = random.choices(X.index, k=int(len(X)*0.3))\n",
        "X_train, X_test=X[~X.index.isin(random_index)], X[X.index.isin(random_index)]\n",
        "y_train, y_test=y[~X.index.isin(random_index)], y[X.index.isin(random_index)]"
      ],
      "id": "c6f361a3-5dce-4b51-ac07-0191d62b0052",
      "execution_count": null,
      "outputs": [
        {
          "output_type": "error",
          "ename": "TypeError",
          "evalue": "ignored",
          "traceback": [
            "\u001b[0;31m---------------------------------------------------------------------------\u001b[0m",
            "\u001b[0;31mTypeError\u001b[0m                                 Traceback (most recent call last)",
            "\u001b[0;32m<ipython-input-182-7df42b11d35f>\u001b[0m in \u001b[0;36m<module>\u001b[0;34m()\u001b[0m\n\u001b[1;32m      2\u001b[0m \u001b[0mrandom_index\u001b[0m \u001b[0;34m=\u001b[0m \u001b[0mrandom\u001b[0m\u001b[0;34m.\u001b[0m\u001b[0mchoices\u001b[0m\u001b[0;34m(\u001b[0m\u001b[0mX\u001b[0m\u001b[0;34m.\u001b[0m\u001b[0mindex\u001b[0m\u001b[0;34m,\u001b[0m \u001b[0mk\u001b[0m\u001b[0;34m=\u001b[0m\u001b[0mint\u001b[0m\u001b[0;34m(\u001b[0m\u001b[0mlen\u001b[0m\u001b[0;34m(\u001b[0m\u001b[0mX\u001b[0m\u001b[0;34m)\u001b[0m\u001b[0;34m*\u001b[0m\u001b[0;36m0.3\u001b[0m\u001b[0;34m)\u001b[0m\u001b[0;34m)\u001b[0m\u001b[0;34m\u001b[0m\u001b[0;34m\u001b[0m\u001b[0m\n\u001b[1;32m      3\u001b[0m \u001b[0mX_train\u001b[0m\u001b[0;34m,\u001b[0m \u001b[0mX_test\u001b[0m\u001b[0;34m=\u001b[0m\u001b[0mX\u001b[0m\u001b[0;34m[\u001b[0m\u001b[0;34m~\u001b[0m\u001b[0mX\u001b[0m\u001b[0;34m.\u001b[0m\u001b[0mindex\u001b[0m\u001b[0;34m.\u001b[0m\u001b[0misin\u001b[0m\u001b[0;34m(\u001b[0m\u001b[0mrandom_index\u001b[0m\u001b[0;34m)\u001b[0m\u001b[0;34m]\u001b[0m\u001b[0;34m,\u001b[0m \u001b[0mX\u001b[0m\u001b[0;34m[\u001b[0m\u001b[0mX\u001b[0m\u001b[0;34m.\u001b[0m\u001b[0mindex\u001b[0m\u001b[0;34m.\u001b[0m\u001b[0misin\u001b[0m\u001b[0;34m(\u001b[0m\u001b[0mrandom_index\u001b[0m\u001b[0;34m)\u001b[0m\u001b[0;34m]\u001b[0m\u001b[0;34m\u001b[0m\u001b[0;34m\u001b[0m\u001b[0m\n\u001b[0;32m----> 4\u001b[0;31m \u001b[0my_train\u001b[0m\u001b[0;34m,\u001b[0m \u001b[0my_test\u001b[0m\u001b[0;34m=\u001b[0m\u001b[0my\u001b[0m\u001b[0;34m[\u001b[0m\u001b[0;34m~\u001b[0m\u001b[0mX\u001b[0m\u001b[0;34m.\u001b[0m\u001b[0mindex\u001b[0m\u001b[0;34m.\u001b[0m\u001b[0misin\u001b[0m\u001b[0;34m(\u001b[0m\u001b[0mrandom_index\u001b[0m\u001b[0;34m)\u001b[0m\u001b[0;34m]\u001b[0m\u001b[0;34m,\u001b[0m \u001b[0my\u001b[0m\u001b[0;34m[\u001b[0m\u001b[0mX\u001b[0m\u001b[0;34m.\u001b[0m\u001b[0mindex\u001b[0m\u001b[0;34m.\u001b[0m\u001b[0misin\u001b[0m\u001b[0;34m(\u001b[0m\u001b[0mrandom_index\u001b[0m\u001b[0;34m)\u001b[0m\u001b[0;34m]\u001b[0m\u001b[0;34m\u001b[0m\u001b[0;34m\u001b[0m\u001b[0m\n\u001b[0m",
            "\u001b[0;31mTypeError\u001b[0m: 'int' object is not subscriptable"
          ]
        }
      ]
    },
    {
      "cell_type": "code",
      "metadata": {
        "id": "2f70511f-3d4c-4dd5-b95a-de4eca6dd0da"
      },
      "source": [
        "from sklearn.linear_model import LinearRegression\n",
        "\n",
        "regressor = LinearRegression().fit(X, y)\n",
        "sklearn=pd.DataFrame(regressor.coef_ , index=X.columns, columns=[\"sklearn\"])#.T.plot.barh()\n",
        "scratch=pd.DataFrame(np.linalg.inv(X.T @ X) @ (X.T @ y), index=X.columns, columns=[\"scratch\"])#.T.plot.barh()"
      ],
      "id": "2f70511f-3d4c-4dd5-b95a-de4eca6dd0da",
      "execution_count": null,
      "outputs": []
    },
    {
      "cell_type": "markdown",
      "metadata": {
        "id": "97a85217-95e5-446c-84ae-c95523e1e8ed"
      },
      "source": [
        "$\\| Y- XB\\|^2 \\\\\n",
        "(Y-XB)^T(Y-XB) \\\\\n",
        "Y^TY-Y^TXB -X^T B^TY -X^TB^TXB \\\\\n",
        "-2 X^TY 2X^TXB \\\\\n",
        "(X^TX)B = X^TY \\\\\n",
        "B = (X^TX)^{-1}X^TY$"
      ],
      "id": "97a85217-95e5-446c-84ae-c95523e1e8ed"
    },
    {
      "cell_type": "code",
      "metadata": {
        "id": "f9e52d7d-4434-4b58-b69e-3a60ff444b20",
        "outputId": "39b3132e-e985-4205-8839-cfbc9149e354"
      },
      "source": [
        "pd.concat([sklearn, scratch], axis=1).plot.bar(figsize=(12, 8))"
      ],
      "id": "f9e52d7d-4434-4b58-b69e-3a60ff444b20",
      "execution_count": null,
      "outputs": [
        {
          "data": {
            "text/plain": [
              "<AxesSubplot:>"
            ]
          },
          "execution_count": 253,
          "metadata": {},
          "output_type": "execute_result"
        },
        {
          "data": {
            "image/png": "[encoded data removed]",
            "text/plain": [
              "<Figure size 864x576 with 1 Axes>"
            ]
          },
          "metadata": {
            "needs_background": "light"
          },
          "output_type": "display_data"
        }
      ]
    }
  ]
}